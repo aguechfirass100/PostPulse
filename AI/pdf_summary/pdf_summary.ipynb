{
 "cells": [
  {
   "cell_type": "code",
   "execution_count": null,
   "metadata": {
    "colab": {
     "base_uri": "https://localhost:8080/"
    },
    "executionInfo": {
     "elapsed": 4329,
     "status": "ok",
     "timestamp": 1747471275226,
     "user": {
      "displayName": "Med Larg8",
      "userId": "03828150558657363322"
     },
     "user_tz": -60
    },
    "id": "ADjPalBhZmpH",
    "outputId": "8d0708a9-8870-4f9c-d2bf-ce4d98d04182"
   },
   "outputs": [
    {
     "name": "stdout",
     "output_type": "stream",
     "text": [
      "Requirement already satisfied: flask in /usr/local/lib/python3.11/dist-packages (3.1.1)\n",
      "Collecting flask-ngrok\n",
      "  Downloading flask_ngrok-0.0.25-py3-none-any.whl.metadata (1.8 kB)\n",
      "Collecting ngrok\n",
      "  Downloading ngrok-1.4.0-cp37-abi3-manylinux_2_17_x86_64.manylinux2014_x86_64.whl.metadata (19 kB)\n",
      "Collecting flask_cors\n",
      "  Downloading flask_cors-5.0.1-py3-none-any.whl.metadata (961 bytes)\n",
      "Requirement already satisfied: blinker>=1.9.0 in /usr/local/lib/python3.11/dist-packages (from flask) (1.9.0)\n",
      "Requirement already satisfied: click>=8.1.3 in /usr/local/lib/python3.11/dist-packages (from flask) (8.2.0)\n",
      "Requirement already satisfied: itsdangerous>=2.2.0 in /usr/local/lib/python3.11/dist-packages (from flask) (2.2.0)\n",
      "Requirement already satisfied: jinja2>=3.1.2 in /usr/local/lib/python3.11/dist-packages (from flask) (3.1.6)\n",
      "Requirement already satisfied: markupsafe>=2.1.1 in /usr/local/lib/python3.11/dist-packages (from flask) (3.0.2)\n",
      "Requirement already satisfied: werkzeug>=3.1.0 in /usr/local/lib/python3.11/dist-packages (from flask) (3.1.3)\n",
      "Requirement already satisfied: requests in /usr/local/lib/python3.11/dist-packages (from flask-ngrok) (2.32.3)\n",
      "Requirement already satisfied: charset-normalizer<4,>=2 in /usr/local/lib/python3.11/dist-packages (from requests->flask-ngrok) (3.4.2)\n",
      "Requirement already satisfied: idna<4,>=2.5 in /usr/local/lib/python3.11/dist-packages (from requests->flask-ngrok) (3.10)\n",
      "Requirement already satisfied: urllib3<3,>=1.21.1 in /usr/local/lib/python3.11/dist-packages (from requests->flask-ngrok) (2.4.0)\n",
      "Requirement already satisfied: certifi>=2017.4.17 in /usr/local/lib/python3.11/dist-packages (from requests->flask-ngrok) (2025.4.26)\n",
      "Downloading flask_ngrok-0.0.25-py3-none-any.whl (3.1 kB)\n",
      "Downloading ngrok-1.4.0-cp37-abi3-manylinux_2_17_x86_64.manylinux2014_x86_64.whl (3.1 MB)\n",
      "\u001b[2K   \u001b[90m━━━━━━━━━━━━━━━━━━━━━━━━━━━━━━━━━━━━━━━━\u001b[0m \u001b[32m3.1/3.1 MB\u001b[0m \u001b[31m30.3 MB/s\u001b[0m eta \u001b[36m0:00:00\u001b[0m\n",
      "\u001b[?25hDownloading flask_cors-5.0.1-py3-none-any.whl (11 kB)\n",
      "Installing collected packages: ngrok, flask-ngrok, flask_cors\n",
      "Successfully installed flask-ngrok-0.0.25 flask_cors-5.0.1 ngrok-1.4.0\n"
     ]
    }
   ],
   "source": [
    "!pip install flask flask-ngrok ngrok flask_cors"
   ]
  },
  {
   "cell_type": "code",
   "execution_count": null,
   "metadata": {
    "colab": {
     "base_uri": "https://localhost:8080/",
     "height": 488
    },
    "executionInfo": {
     "elapsed": 67289,
     "status": "ok",
     "timestamp": 1747473731694,
     "user": {
      "displayName": "Med Larg8",
      "userId": "03828150558657363322"
     },
     "user_tz": -60
    },
    "id": "yC4I698RYwWa",
    "outputId": "a23a0364-17ea-4a3d-a517-fc243456a301"
   },
   "outputs": [
    {
     "name": "stdout",
     "output_type": "stream",
     "text": [
      "[DEBUG] Setting ngrok auth token…\n",
      "[DEBUG] ngrok tunnel → https://a6c8-35-227-39-104.ngrok-free.app\n",
      "[DEBUG] Starting Flask server…\n",
      " * Serving Flask app '__main__'\n",
      " * Debug mode: off\n"
     ]
    },
    {
     "name": "stderr",
     "output_type": "stream",
     "text": [
      "INFO:werkzeug:\u001b[31m\u001b[1mWARNING: This is a development server. Do not use it in a production deployment. Use a production WSGI server instead.\u001b[0m\n",
      " * Running on all addresses (0.0.0.0)\n",
      " * Running on http://127.0.0.1:5000\n",
      " * Running on http://172.28.0.12:5000\n",
      "INFO:werkzeug:\u001b[33mPress CTRL+C to quit\u001b[0m\n"
     ]
    },
    {
     "name": "stdout",
     "output_type": "stream",
     "text": [
      "[DEBUG] /extract called\n",
      "[DEBUG] Received file: version1.pdf, size=75646 bytes\n",
      "[DEBUG] Configuring Gemini API…\n",
      "[DEBUG] PDF base64 size: 100864\n"
     ]
    },
    {
     "name": "stderr",
     "output_type": "stream",
     "text": [
      "INFO:werkzeug:127.0.0.1 - - [17/May/2025 09:21:32] \"POST /extract HTTP/1.1\" 200 -\n"
     ]
    },
    {
     "name": "stdout",
     "output_type": "stream",
     "text": [
      "[DEBUG] Gemini response text: ```json\n",
      "{\n",
      "  \"businessName\": \"Data Diggers\",\n",
      "  \"industry\": \"Data Science, Text Generation, Social Media\",\n",
      "  \"size\": \"Unknown\",\n",
      "  \"website\": null,\n",
      "  \"description\": \"A data science team that utilizes the LLaMA 3 language model, fine-tuned with Unsloth, for the generation of Instagram captions specifically designed for a Generation Z audience.\"\n",
      "}\n",
      "```\n",
      "[DEBUG] Parsed JSON keys: ['businessName', 'industry', 'size', 'website', 'description']\n",
      "[DEBUG] Returning filtered data: {'businessName': 'Data Diggers', 'industry': 'Data Science, Text Generation, Social Media', 'size': 'Unknown', 'website': None, 'description': 'A data science team that utilizes the LLaMA 3 language model, fine-tuned with Unsloth, for the generation of Instagram captions specifically designed for a Generation Z audience.'}\n"
     ]
    }
   ],
   "source": [
    "# flask_app.py\n",
    "import os\n",
    "import subprocess\n",
    "import io\n",
    "import re\n",
    "import json\n",
    "import base64\n",
    "\n",
    "# === Install runtime deps ===\n",
    "def install_dependencies():\n",
    "    subprocess.run([\n",
    "        'pip', 'install',\n",
    "        'flask', 'flask-cors', 'google-generativeai', 'pyngrok'\n",
    "    ], check=True)\n",
    "\n",
    "install_dependencies()\n",
    "\n",
    "from flask import Flask, request, jsonify\n",
    "from flask_cors import CORS\n",
    "from pyngrok import ngrok\n",
    "import google.generativeai as genai\n",
    "\n",
    "app = Flask(__name__)\n",
    "CORS(app)\n",
    "\n",
    "# === Hard‑coded API keys ===\n",
    "GEMINI_API_KEY = \"\"   # ← your key here\n",
    "NGROK_TOKEN     = \"\"   # ← your ngrok auth token here\n",
    "\n",
    "# === ngrok auth & tunnel ===\n",
    "print(\"[DEBUG] Setting ngrok auth token…\")\n",
    "ngrok.set_auth_token(NGROK_TOKEN)\n",
    "public_url = ngrok.connect(5000).public_url\n",
    "print(f\"[DEBUG] ngrok tunnel → {public_url}\")\n",
    "\n",
    "# === Only step‑1 keys ===\n",
    "STEP1_KEYS = [\"businessName\", \"industry\", \"size\", \"website\", \"description\"]\n",
    "def filter_step1(data: dict) -> dict:\n",
    "    return {k: data.get(k, \"\") for k in STEP1_KEYS}\n",
    "\n",
    "@app.route('/extract', methods=['POST'])\n",
    "def extract():\n",
    "    try:\n",
    "        print(\"[DEBUG] /extract called\")\n",
    "\n",
    "        # 1) Validate upload\n",
    "        if 'file' not in request.files:\n",
    "            print(\"[ERROR] No 'file' in request.files\")\n",
    "            return jsonify({'error': 'No file provided'}), 400\n",
    "\n",
    "        f = request.files['file']\n",
    "        pdf_bytes = f.read()\n",
    "        print(f\"[DEBUG] Received file: {f.filename}, size={len(pdf_bytes)} bytes\")\n",
    "\n",
    "        # 2) Configure Gemini and call model.generate_content\n",
    "        print(\"[DEBUG] Configuring Gemini API…\")\n",
    "        genai.configure(api_key=GEMINI_API_KEY)\n",
    "\n",
    "        # Encode PDF as base64 for Gemini\n",
    "        encoded = base64.b64encode(pdf_bytes).decode('utf-8')\n",
    "        print(\"[DEBUG] PDF base64 size:\", len(encoded))\n",
    "\n",
    "        model = genai.GenerativeModel(\"gemini-1.5-flash\")\n",
    "        response = model.generate_content([\n",
    "            \"Extract business info as JSON with keys businessName, industry, size, website, description\",\n",
    "            {\"mime_type\": \"application/pdf\", \"data\": encoded}\n",
    "        ])\n",
    "        raw = response.text\n",
    "        print(f\"[DEBUG] Gemini response text: {raw}\")\n",
    "\n",
    "        # 3) Manually strip code fences and load JSON\n",
    "        clean = re.sub(r'^```json\\s*|```$', '', raw).strip()\n",
    "        try:\n",
    "            data = json.loads(clean)\n",
    "            print(f\"[DEBUG] Parsed JSON keys: {list(data.keys())}\")\n",
    "        except Exception as parse_err:\n",
    "            print(f\"[ERROR] JSON parse failed: {parse_err}\")\n",
    "            return jsonify({\n",
    "                'error': 'Failed to parse Gemini JSON',\n",
    "                'details': str(parse_err),\n",
    "                'cleaned_text_snippet': clean[:200]\n",
    "            }), 502\n",
    "\n",
    "        # 4) Filter to step1 fields\n",
    "        step1 = filter_step1(data)\n",
    "        print(f\"[DEBUG] Returning filtered data: {step1}\")\n",
    "\n",
    "        return jsonify(step1), 200\n",
    "\n",
    "    except Exception as e:\n",
    "        print(f\"[EXCEPTION] {type(e).__name__}: {e}\")\n",
    "        return jsonify({'error': str(e)}), 500\n",
    "\n",
    "if __name__ == '__main__':\n",
    "    print(\"[DEBUG] Starting Flask server…\")\n",
    "    app.run(host='0.0.0.0', port=5000)\n"
   ]
  }
 ],
 "metadata": {
  "colab": {
   "provenance": []
  },
  "kernelspec": {
   "display_name": "Python 3",
   "name": "python3"
  },
  "language_info": {
   "name": "python"
  }
 },
 "nbformat": 4,
 "nbformat_minor": 0
}
